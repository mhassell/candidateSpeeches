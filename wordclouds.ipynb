{
 "cells": [
  {
   "cell_type": "code",
   "execution_count": 1,
   "metadata": {
    "collapsed": true
   },
   "outputs": [],
   "source": [
    "import os\n",
    "from wordcloud import WordCloud\n",
    "import matplotlib.pyplot as plt\n",
    "import re"
   ]
  },
  {
   "cell_type": "code",
   "execution_count": 2,
   "metadata": {
    "collapsed": false
   },
   "outputs": [],
   "source": [
    "speeches={}\n",
    "for i in os.listdir(os.getcwd()):\n",
    "    if i.endswith('.txt'):\n",
    "        name = i.rstrip('.txt')\n",
    "        f = open(i,'r')\n",
    "        speeches[name]=f.read()\n",
    "        f.close()"
   ]
  },
  {
   "cell_type": "code",
   "execution_count": 5,
   "metadata": {
    "collapsed": false
   },
   "outputs": [],
   "source": [
    "# need to clean the data better (why do I have random singleton letters in the wordclouds??)\n",
    "\n",
    "words = re.findall(r\"\\w+\",speeches['sandersSpeech'])\n",
    "\n",
    "junk = ['ve', 'don','la','m','didn','de','t','ll',\"T\",' t',\"'t\"]\n",
    "                   \n",
    "for word in words:\n",
    "    if len(word)==1 or word.strip() in junk:\n",
    "        words.remove(word)\n",
    "\n",
    "string = ' '.join(words)\n",
    "                   \n",
    "wordcloud = WordCloud(max_font_size=40, relative_scaling=.5).generate(string)\n",
    "                                                                      \n",
    "plt.figure()\n",
    "plt.imshow(wordcloud)\n",
    "plt.axis(\"off\")\n",
    "plt.show()"
   ]
  },
  {
   "cell_type": "code",
   "execution_count": null,
   "metadata": {
    "collapsed": true
   },
   "outputs": [],
   "source": []
  }
 ],
 "metadata": {
  "kernelspec": {
   "display_name": "Python 2",
   "language": "python",
   "name": "python2"
  },
  "language_info": {
   "codemirror_mode": {
    "name": "ipython",
    "version": 2
   },
   "file_extension": ".py",
   "mimetype": "text/x-python",
   "name": "python",
   "nbconvert_exporter": "python",
   "pygments_lexer": "ipython2",
   "version": "2.7.10"
  }
 },
 "nbformat": 4,
 "nbformat_minor": 0
}
