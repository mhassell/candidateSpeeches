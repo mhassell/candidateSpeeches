{
 "cells": [
  {
   "cell_type": "code",
   "execution_count": 2,
   "metadata": {
    "collapsed": true
   },
   "outputs": [],
   "source": [
    "from textblob import TextBlob\n",
    "import os\n",
    "import matplotlib.pyplot as plt"
   ]
  },
  {
   "cell_type": "code",
   "execution_count": 3,
   "metadata": {
    "collapsed": false
   },
   "outputs": [],
   "source": [
    "blobs = {}\n",
    "names = []\n",
    "for i in os.listdir(os.getcwd()):\n",
    "    if i.endswith('.txt'):\n",
    "        name = i.rstrip('.txt')\n",
    "        blob = name + 'blob'\n",
    "        names.append(name[-len(name):-6])\n",
    "        f = open(i,'r')\n",
    "        blobs[blob]=TextBlob(f.read().decode('utf-8'))\n",
    "        f.close()"
   ]
  },
  {
   "cell_type": "code",
   "execution_count": 4,
   "metadata": {
    "collapsed": false
   },
   "outputs": [
    {
     "name": "stdout",
     "output_type": "stream",
     "text": [
      "christieSpeech Sentiment(polarity=0.150755185243137, subjectivity=0.544670080031526)\n",
      "carsonSpeech Sentiment(polarity=0.10915241362411172, subjectivity=0.48495503553050734)\n",
      "trumpSpeech Sentiment(polarity=0.1381196636038534, subjectivity=0.5016277826258058)\n",
      "fiorinaSpeech Sentiment(polarity=0.06689694249903674, subjectivity=0.451195462478185)\n",
      "omalleySpeech Sentiment(polarity=0.16383150156208415, subjectivity=0.4114224947113297)\n",
      "bushSpeech Sentiment(polarity=0.17858198100176714, subjectivity=0.45533254624163716)\n",
      "sandersSpeech Sentiment(polarity=0.10506311920741448, subjectivity=0.4840452221156918)\n",
      "rubioSpeech Sentiment(polarity=0.11261010446639191, subjectivity=0.43858966050582815)\n",
      "clintonSpeech Sentiment(polarity=0.15461402444356986, subjectivity=0.4284101749821445)\n",
      "santorumSpeech Sentiment(polarity=0.12167493386243383, subjectivity=0.3242873677248678)\n",
      "paulSpeech Sentiment(polarity=0.11030232483565822, subjectivity=0.4555673240339909)\n"
     ]
    }
   ],
   "source": [
    "for blob in blobs.keys():\n",
    "    print blob.rstrip('blob'), blobs[blob].sentiment"
   ]
  },
  {
   "cell_type": "code",
   "execution_count": 12,
   "metadata": {
    "collapsed": false
   },
   "outputs": [
    {
     "name": "stdout",
     "output_type": "stream",
     "text": [
      "christieSpeech 6.8\n",
      "carsonSpeech 5.2\n",
      "trumpSpeech 3.7\n",
      "fiorinaSpeech 9.5\n",
      "omalleySpeech 6.8\n",
      "bushSpeech 7.2\n",
      "sandersSpeech 8.3\n",
      "rubioSpeech 9.1\n",
      "clintonSpeech 8.4\n",
      "santorumSpeech 6.4\n",
      "paulSpeech 7.6\n"
     ]
    }
   ],
   "source": [
    "# compute Flesch-Kincaid grade level\n",
    "from textstat.textstat import textstat\n",
    "\n",
    "for blob in blobs.keys():\n",
    "    print blob.rstrip('blob'), textstat.flesch_kincaid_grade(blobs[blob].raw)"
   ]
  },
  {
   "cell_type": "code",
   "execution_count": 13,
   "metadata": {
    "collapsed": false
   },
   "outputs": [
    {
     "name": "stdout",
     "output_type": "stream",
     "text": [
      "christieSpeech 78.59\n",
      "carsonSpeech 82.65\n",
      "trumpSpeech 86.71\n",
      "fiorinaSpeech 60.65\n",
      "omalleySpeech 73.17\n",
      "bushSpeech 72.16\n",
      "sandersSpeech 69.11\n",
      "rubioSpeech 67.08\n",
      "clintonSpeech 63.7\n",
      "santorumSpeech 74.19\n",
      "paulSpeech 65.73\n"
     ]
    }
   ],
   "source": [
    "# compute the Flesch Reading Ease formula\n",
    "for blob in blobs.keys():\n",
    "    print blob.rstrip('blob'), textstat.flesch_reading_ease(blobs[blob].raw)"
   ]
  },
  {
   "cell_type": "code",
   "execution_count": 19,
   "metadata": {
    "collapsed": false
   },
   "outputs": [
    {
     "name": "stdout",
     "output_type": "stream",
     "text": [
      "christieSpeech 6th and 7th grade\n",
      "carsonSpeech 5th and 6th grade\n",
      "trumpSpeech 5th and 6th grade\n",
      "fiorinaSpeech 9th and 10th grade\n",
      "omalleySpeech 7th and 8th grade\n",
      "bushSpeech 7th and 8th grade\n",
      "sandersSpeech 9th and 10th grade\n",
      "rubioSpeech 9th and 10th grade\n",
      "clintonSpeech 8th and 9th grade\n",
      "santorumSpeech 6th and 7th grade\n",
      "paulSpeech 7th and 8th grade\n"
     ]
    }
   ],
   "source": [
    "# compute the combined estimate\n",
    "for blob in blobs.keys():\n",
    "    print blob.rstrip('blob'), textstat.text_standard(blobs[blob].raw)"
   ]
  },
  {
   "cell_type": "code",
   "execution_count": 36,
   "metadata": {
    "collapsed": false
   },
   "outputs": [],
   "source": [
    "# bar chart of grade levels\n",
    "import numpy as np\n",
    "\n",
    "N = 11\n",
    "\n",
    "width = 0.65       # the width of the bars\n",
    "ind = np.arange(0,2*N,2)+width/2  # the x locations for the groups\n",
    "\n",
    "\n",
    "cands = ('Christie', 'Carson', 'Trump', 'Fiorina','Bush','Rubio','Santorum','Paul','Clinton','Sanders',\"O'Malley\")\n",
    "\n",
    "gradeLevel=[7, 6, 6, 10, 8, 10, 7, 8, 9, 10, 8]\n",
    "\n",
    "fig, ax = plt.subplots()\n",
    "rects1 = ax.bar(ind, gradeLevel, width, color='r')\n",
    "\n",
    "# add some text for labels, title and axes ticks\n",
    "ax.set_ylabel('Grade level')\n",
    "ax.set_title('Candidate speech grade levels, combined estimates')\n",
    "ax.set_xticks(ind+width/2)\n",
    "ax.set_xticklabels(('Christie', 'Carson', 'Trump', 'Fiorina','Bush','Rubio','Santorum','Paul','Clinton','Sanders',\"O'Malley\"))\n",
    "\n",
    "plt.show()"
   ]
  },
  {
   "cell_type": "code",
   "execution_count": 39,
   "metadata": {
    "collapsed": true
   },
   "outputs": [],
   "source": [
    "# bar chart for Flesh understandability\n",
    "\n",
    "N = 11\n",
    "\n",
    "width = 0.65       # the width of the bars\n",
    "ind = np.arange(0,2*N,2)+width/2  # the x locations for the groups\n",
    "\n",
    "\n",
    "cands = ('Christie', 'Carson', 'Trump', 'Fiorina','Bush','Rubio','Santorum','Paul','Clinton','Sanders',\"O'Malley\")\n",
    "\n",
    "flesch = (78.59, 82.65, 86.71, 60.65, 72.16, 67.08, 74.19, 65.73, 63.7, 69.11, 73.13)\n",
    "\n",
    "fig, ax = plt.subplots()\n",
    "rects1 = ax.bar(ind, flesch, width, color='b')\n",
    "\n",
    "# add some text for labels, title and axes ticks\n",
    "ax.set_ylabel('Flesch Reading Ease Score')\n",
    "ax.set_title('Candidate Flesch Reading Ease')\n",
    "ax.set_xticks(ind+width/2)\n",
    "ax.set_xticklabels(('Christie', 'Carson', 'Trump', 'Fiorina','Bush','Rubio','Santorum','Paul','Clinton','Sanders',\"O'Malley\"))\n",
    "\n",
    "plt.show()"
   ]
  },
  {
   "cell_type": "code",
   "execution_count": null,
   "metadata": {
    "collapsed": true
   },
   "outputs": [],
   "source": []
  }
 ],
 "metadata": {
  "kernelspec": {
   "display_name": "Python 2",
   "language": "python",
   "name": "python2"
  },
  "language_info": {
   "codemirror_mode": {
    "name": "ipython",
    "version": 2
   },
   "file_extension": ".py",
   "mimetype": "text/x-python",
   "name": "python",
   "nbconvert_exporter": "python",
   "pygments_lexer": "ipython2",
   "version": "2.7.10"
  }
 },
 "nbformat": 4,
 "nbformat_minor": 0
}
